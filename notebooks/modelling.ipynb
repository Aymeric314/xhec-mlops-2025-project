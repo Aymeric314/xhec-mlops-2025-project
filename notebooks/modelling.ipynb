{
 "cells": [
  {
   "attachments": {},
   "cell_type": "markdown",
   "metadata": {},
   "source": [
    "In this notebook, you should implement a first version of a working machine learning model to predict the age of an Abalone.\n",
    "\n",
    "A few guidelines:\n",
    "- The model does not have to be complex. A simple linear regression model is enough.\n",
    "- You should use MLflow to track your experiments. You can use the MLflow UI to compare your experiments.\n",
    "- Do not push any MLflow data to the repository. Only the code to run the experiments is interesting and should be pushed."
   ]
  },
  {
   "cell_type": "code",
   "execution_count": 1,
   "metadata": {},
   "outputs": [],
   "source": [
    "import pandas as pd\n",
    "from sklearn.model_selection import train_test_split, cross_val_score\n",
    "from sklearn.ensemble import RandomForestRegressor\n",
    "from sklearn.metrics import root_mean_squared_error\n",
    "import numpy as np\n",
    "from typing import List\n",
    "\n",
    "def get_data():\n",
    "    return pd.read_csv('../data/abalone.csv')\n",
    "\n",
    "df = get_data()"
   ]
  },
  {
   "cell_type": "code",
   "execution_count": 2,
   "metadata": {},
   "outputs": [],
   "source": [
    "def encode_sex_column(df) -> pd.DataFrame:\n",
    "\n",
    "    # 1. Apply One-Hot Encoding\n",
    "    df_encoded = pd.get_dummies(\n",
    "        df['Sex'],\n",
    "        prefix='Sex',\n",
    "        drop_first=True,\n",
    "        dtype=int\n",
    "    )\n",
    "\n",
    "    # 2. Concatenate the new encoded columns back to the original DataFrame\n",
    "    df = pd.concat([df.drop('Sex', axis=1), df_encoded], axis=1)\n",
    "    return df\n",
    "\n",
    "df = encode_sex_column(df)"
   ]
  },
  {
   "cell_type": "code",
   "execution_count": 3,
   "metadata": {},
   "outputs": [],
   "source": [
    "def split_data(df):\n",
    "    y = df['Rings']\n",
    "    X = df.drop(columns=['Rings'])\n",
    "\n",
    "    # 3. Perform Train-Test Split (80% training, 20% testing)\n",
    "    X_train, X_test, y_train, y_test = train_test_split(\n",
    "        X, y, test_size=0.2, random_state=41)\n",
    "    return X_train, X_test, y_train, y_test\n",
    "\n",
    "X_train, X_test, y_train, y_test = split_data(df)"
   ]
  },
  {
   "cell_type": "code",
   "execution_count": 9,
   "metadata": {},
   "outputs": [],
   "source": [
    "def preprocessing(df):\n",
    "    df = encode_sex_column(df)\n",
    "    return df"
   ]
  },
  {
   "cell_type": "code",
   "execution_count": 6,
   "metadata": {},
   "outputs": [],
   "source": [
    "def train_model(X_train=X_train, y_train=y_train):\n",
    "    model = RandomForestRegressor()\n",
    "    model.fit(X_train, y_train)\n",
    "    return model\n",
    "\n",
    "def predict_rings(input_data, model):\n",
    "    \"\"\"\n",
    "    Predicts the target variable using the provided model and input data.\n",
    "\n",
    "    Args:\n",
    "        input_data (csr_matrix): The input feature matrix in sparse format.\n",
    "        model (LinearRegression): The trained linear regression model.\n",
    "\n",
    "    Returns:\n",
    "        np.array: The predicted values for the input data.\n",
    "    \"\"\"\n",
    "    return model.predict(input_data)\n",
    "\n",
    "\n",
    "def evaluate_model(y_true, y_pred):\n",
    "    \"\"\"\n",
    "    Evaluates the model's performance using the root mean squared error (RMSE).\n",
    "\n",
    "    Args:\n",
    "        y_true (np.ndarray): The true target values.\n",
    "        y_pred (np.ndarray): The predicted target values.\n",
    "\n",
    "    Returns:\n",
    "        float: The computed RMSE value.\n",
    "    \"\"\"\n",
    "    return root_mean_squared_error(y_true, y_pred)\n",
    "\n",
    "model = train_model(X_train, y_train)\n",
    "y_pred = predict_rings(X_test, model)\n",
    "score = evaluate_model(y_test, y_pred)"
   ]
  },
  {
   "cell_type": "code",
   "execution_count": null,
   "metadata": {},
   "outputs": [],
   "source": [
    "from mlflow import MlflowClient\n",
    "import mlflow\n",
    "\n",
    "# experiments = MlflowClient().search_experiments()\n",
    "# print(experiments)\n",
    "\n",
    "# Set the experiment name\n",
    "mlflow.set_experiment(\"abalone_project\")"
   ]
  },
  {
   "cell_type": "code",
   "execution_count": null,
   "metadata": {},
   "outputs": [],
   "source": [
    "# Start a run\n",
    "with mlflow.start_run() as run:\n",
    "    run_id = run.info.run_id\n",
    "\n",
    "    # Set tags for the run\n",
    "    mlflow.set_tags({\"model_type\": \"random_forst\", \"framework\": \"sklearn\"})\n",
    "\n",
    "    # Load data\n",
    "    train_df = get_data()\n",
    "\n",
    "    # Encode categorical columns\n",
    "    train_df = preprocessing(train_df)\n",
    "\n",
    "    # Extract X and y\n",
    "    X_train, y_train, X_test, y_test = split_data(train_df)\n",
    "\n",
    "    # Train model\n",
    "    model = train_model(X_train, y_train)\n",
    "\n",
    "    # Evaluate model\n",
    "    prediction = predict_rings(X_train, model)\n",
    "    train_me = evaluate_model(y_train, prediction)\n",
    "    mlflow.log_metric(\"train_rmse\", train_me)\n",
    "\n",
    "    # Evaluate model on test set\n",
    "    y_pred_test = predict_rings(X_test, model)\n",
    "    test_me = evaluate_model(y_test, y_pred_test)\n",
    "    mlflow.log_metric(\"test_rmse\", test_me)\n",
    "\n",
    "    # Log your model\n",
    "    mlflow.sklearn.log_model(model, \"model\")\n",
    "\n",
    "    # Register your model in mlflow model registry\n",
    "    result = mlflow.register_model(f\"runs:/{run_id}/model\", \"taxi_lr_model\")"
   ]
  }
 ],
 "metadata": {
  "kernelspec": {
   "display_name": "xhec-mlops-project-student",
   "language": "python",
   "name": "python3"
  },
  "language_info": {
   "codemirror_mode": {
    "name": "ipython",
    "version": 3
   },
   "file_extension": ".py",
   "mimetype": "text/x-python",
   "name": "python",
   "nbconvert_exporter": "python",
   "pygments_lexer": "ipython3",
   "version": "3.11.14"
  },
  "orig_nbformat": 4
 },
 "nbformat": 4,
 "nbformat_minor": 2
}
