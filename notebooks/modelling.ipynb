{
 "cells": [
  {
   "attachments": {},
   "cell_type": "markdown",
   "metadata": {},
   "source": [
    "In this notebook, you should implement a first version of a working machine learning model to predict the age of an Abalone.\n",
    "\n",
    "A few guidelines:\n",
    "- The model does not have to be complex. A simple linear regression model is enough.\n",
    "- You should use MLflow to track your experiments. You can use the MLflow UI to compare your experiments.\n",
    "- Do not push any MLflow data to the repository. Only the code to run the experiments is interesting and should be pushed."
   ]
  },
  {
   "cell_type": "code",
   "execution_count": 1,
   "metadata": {},
   "outputs": [],
   "source": [
    "import pandas as pd\n",
    "from sklearn.model_selection import train_test_split, cross_val_score\n",
    "from sklearn.ensemble import RandomForestRegressor\n",
    "from sklearn.metrics import root_mean_squared_error\n",
    "import numpy as np\n",
    "from typing import List\n",
    "\n",
    "df = pd.read_csv('../data/abalone.csv')"
   ]
  },
  {
   "cell_type": "code",
   "execution_count": 2,
   "metadata": {},
   "outputs": [],
   "source": [
    "def encode_sex_column(df) -> pd.DataFrame:\n",
    "\n",
    "    # 1. Apply One-Hot Encoding\n",
    "    df_encoded = pd.get_dummies(\n",
    "        df['Sex'],\n",
    "        prefix='Sex',\n",
    "        drop_first=True,\n",
    "        dtype=int\n",
    "    )\n",
    "\n",
    "    # 2. Concatenate the new encoded columns back to the original DataFrame\n",
    "    df = pd.concat([df.drop('Sex', axis=1), df_encoded], axis=1)\n",
    "    return df\n",
    "\n",
    "train_df = encode_sex_column(df)"
   ]
  },
  {
   "cell_type": "code",
   "execution_count": 3,
   "metadata": {},
   "outputs": [],
   "source": [
    "def split_data(df):\n",
    "    y = df['Rings']\n",
    "    X = df.drop(columns=['Rings'])\n",
    "\n",
    "    # 3. Perform Train-Test Split (80% training, 20% testing)\n",
    "    X_train, X_test, y_train, y_test = train_test_split(\n",
    "        X, y, test_size=0.2, random_state=41)\n",
    "    return X_train, X_test, y_train, y_test\n",
    "\n",
    "X_train, X_test, y_train, y_test = split_data(train_df)"
   ]
  },
  {
   "cell_type": "code",
   "execution_count": null,
   "metadata": {},
   "outputs": [],
   "source": [
    "def train_model(X_train=X_train, y_train=y_train):\n",
    "    model = RandomForestRegressor()\n",
    "    model.fit(X_train, y_train)\n",
    "    return model\n",
    "\n",
    "def predict_rings(input_data, model):\n",
    "    \"\"\"\n",
    "    Predicts the target variable using the provided model and input data.\n",
    "\n",
    "    Args:\n",
    "        input_data (csr_matrix): The input feature matrix in sparse format.\n",
    "        model (LinearRegression): The trained linear regression model.\n",
    "\n",
    "    Returns:\n",
    "        np.array: The predicted values for the input data.\n",
    "    \"\"\"\n",
    "    return model.predict(input_data)\n",
    "\n",
    "\n",
    "def evaluate_model(y_true, y_pred):\n",
    "    \"\"\"\n",
    "    Evaluates the model's performance using the root mean squared error (RMSE).\n",
    "\n",
    "    Args:\n",
    "        y_true (np.ndarray): The true target values.\n",
    "        y_pred (np.ndarray): The predicted target values.\n",
    "\n",
    "    Returns:\n",
    "        float: The computed RMSE value.\n",
    "    \"\"\"\n",
    "    return root_mean_squared_error(y_true, y_pred)\n",
    "\n"
   ]
  },
  {
   "cell_type": "code",
   "execution_count": null,
   "metadata": {},
   "outputs": [],
   "source": [
    "def train_and_evaluate_cv(model: object, X: pd.DataFrame, y: pd.Series, cv_folds: int = 5) -> List[float]:\n",
    "    scoring_metric = 'neg_mean_squared_error'\n",
    "\n",
    "    # Perform cross-validation to get Negative MSE scores\n",
    "    neg_mse_scores = cross_val_score(\n",
    "        estimator=model,\n",
    "        X=X,\n",
    "        y=y,\n",
    "        cv=cv_folds,\n",
    "        scoring=scoring_metric\n",
    "    )\n",
    "\n",
    "    # Convert Negative MSE scores to positive RMSE scores\n",
    "    rmse_scores = np.sqrt(-neg_mse_scores)\n",
    "\n",
    "    print(\"\\nCross-Validation Results (RMSE):\")\n",
    "    print(f\"Individual RMSE Scores: {rmse_scores}\")\n",
    "    print(f\"Mean RMSE Score: {np.mean(rmse_scores):.4f}\")\n",
    "    print(f\"Standard Deviation of RMSE Score: {np.std(rmse_scores):.4f}\")\n",
    "    print(\"--------------------------------------------------\")\n",
    "\n",
    "    return np.mean(rmse_scores)\n",
    "\n",
    "X = train_df.drop(columns=['Rings'])\n",
    "y = train_df['Rings']"
   ]
  },
  {
   "cell_type": "code",
   "execution_count": 10,
   "metadata": {},
   "outputs": [
    {
     "name": "stdout",
     "output_type": "stream",
     "text": [
      "\n",
      "Cross-Validation Results (RMSE):\n",
      "Individual RMSE Scores: [3.11851885 1.69278108 2.33804822 1.88969557 1.98312516]\n",
      "Mean RMSE Score: 2.2044\n",
      "Standard Deviation of RMSE Score: 0.5026\n",
      "--------------------------------------------------\n"
     ]
    }
   ],
   "source": [
    "train_and_evaluate_cv(RandomForestRegressor(),X, y)"
   ]
  },
  {
   "cell_type": "code",
   "execution_count": 30,
   "metadata": {},
   "outputs": [],
   "source": [
    "from mlflow import MlflowClient\n",
    "import mlflow\n",
    "\n",
    "# experiments = MlflowClient().search_experiments()\n",
    "# print(experiments)"
   ]
  },
  {
   "cell_type": "code",
   "execution_count": 32,
   "metadata": {},
   "outputs": [],
   "source": [
    "def preprocessing(df):\n",
    "    return df"
   ]
  },
  {
   "cell_type": "code",
   "execution_count": 31,
   "metadata": {},
   "outputs": [
    {
     "name": "stderr",
     "output_type": "stream",
     "text": [
      "2025/10/23 13:53:01 INFO mlflow.tracking.fluent: Experiment with name 'abalone_project' does not exist. Creating a new experiment.\n"
     ]
    },
    {
     "data": {
      "text/plain": [
       "<Experiment: artifact_location='file:///c:/Users/PC/Desktop/HEC/ML_OPS/xhec-mlops-2025-project/notebooks/mlruns/130990549742822623', creation_time=1761220381443, experiment_id='130990549742822623', last_update_time=1761220381443, lifecycle_stage='active', name='abalone_project', tags={}>"
      ]
     },
     "execution_count": 31,
     "metadata": {},
     "output_type": "execute_result"
    }
   ],
   "source": [
    "mlflow.set_experiment(\"abalone_project\")"
   ]
  },
  {
   "cell_type": "code",
   "execution_count": null,
   "metadata": {},
   "outputs": [],
   "source": []
  }
 ],
 "metadata": {
  "kernelspec": {
   "display_name": "xhec-mlops-project-student",
   "language": "python",
   "name": "python3"
  },
  "language_info": {
   "codemirror_mode": {
    "name": "ipython",
    "version": 3
   },
   "file_extension": ".py",
   "mimetype": "text/x-python",
   "name": "python",
   "nbconvert_exporter": "python",
   "pygments_lexer": "ipython3",
   "version": "3.11.14"
  },
  "orig_nbformat": 4
 },
 "nbformat": 4,
 "nbformat_minor": 2
}
